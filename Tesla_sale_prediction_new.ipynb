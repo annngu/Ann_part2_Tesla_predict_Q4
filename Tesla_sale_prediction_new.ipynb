{
 "cells": [
  {
   "cell_type": "markdown",
   "id": "abc1765b",
   "metadata": {},
   "source": [
    "## TESLA SALE_PREDICTION BASED ON THE SALE OF NEAR"
   ]
  },
  {
   "cell_type": "markdown",
   "id": "bd98068c",
   "metadata": {},
   "source": [
    "## Predicting Tesla Sales Based on Last Quarter Sales Data and Report \n",
    "\n",
    "\n",
    "In this project, I aim to build a machine learning model to predict Tesla's quarterly sales based on\n",
    "historical sales data and potentially other influential factors. By analyzing trends in the data,\n",
    "cleaning and preprocessing it, and selecting an appropriate model, we can forecast future sales,\n",
    "providing valuable insights for Tesla’s production and marketing strategies.\n",
    "\n",
    "## Intruction\n",
    "\n",
    "Why Analyzing Tesla's Sales is Interesting\n",
    "Analyzing Tesla's sales is significant for several reasons:\n",
    "    • Industry Leadership: Tesla is a pioneer in the EV market, and its performance often sets the tone for the industry. Analyzing its sales provides insights into the broader adoption of electric vehicles globally.\n",
    "    • Market Trends: Sales data can reveal consumer preferences, such as which models are most popular, and how regional demand varies.\n",
    "    • Forecasting and Decision Making: Predicting sales helps stakeholders, including investors and policymakers, make informed decisions about resource allocation, market strategies, and policy development.\n",
    "    • Technological Impact: Tesla's innovative technologies, such as autonomous driving and battery advancements, are reflected in its sales figures, showing how innovations impact market dynamics.\n",
    "    \n",
    "\n"
   ]
  },
  {
   "cell_type": "code",
   "execution_count": null,
   "id": "23de97dd",
   "metadata": {},
   "outputs": [],
   "source": [
    "conda update numpy pandas\n"
   ]
  },
  {
   "cell_type": "code",
   "execution_count": null,
   "id": "454f330b",
   "metadata": {},
   "outputs": [],
   "source": [
    "import pandas as pd\n",
    "import numpy as np\n",
    "from xgboost import XGBRegressor\n",
    "from sklearn.model_selection import train_test_split\n",
    "from sklearn.metrics import mean_squared_error, mean_absolute_error\n",
    "import matplotlib.pyplot as plt\n",
    "\n",
    "from sklearn.linear_model import LinearRegression\n",
    "from sklearn.metrics import mean_squared_error\n",
    "\n",
    "#Load and inspect the dataset\n",
    "\n",
    "data = pd.read_csv('tesla_q1_2024.csv')"
   ]
  },
  {
   "cell_type": "code",
   "execution_count": null,
   "id": "9a1e551f",
   "metadata": {},
   "outputs": [],
   "source": [
    "# Extract 'Total automotive revenues' row and transpose it\n",
    "automotive_revenues = data[data.iloc[:, 0] == \"Total automotive revenues\"].transpose()\n",
    "automotive_revenues.columns = [\"Total_automotive_revenues\"]\n",
    "automotive_revenues = automotive_revenues.drop(automotive_revenues.index[0]).reset_index()\n",
    "automotive_revenues.rename(columns={'index': 'Quarter'}, inplace=True)\n"
   ]
  },
  {
   "cell_type": "code",
   "execution_count": null,
   "id": "daa2efec",
   "metadata": {},
   "outputs": [],
   "source": [
    "# Clean revenue data and convert to numeric\n",
    "automotive_revenues['Total_automotive_revenues'] = pd.to_numeric(automotive_revenues['Total_automotive_revenues'].str.replace(',', ''), errors='coerce')\n",
    "\n",
    "# Filter out rows that don't match quarter format\n",
    "automotive_revenues = automotive_revenues[automotive_revenues['Quarter'].str.match(r\"Q[1-4]-\\d{4}\")]\n",
    "\n",
    "# Extract year and quarter, convert to datetime, and create a lagged revenue feature\n",
    "automotive_revenues['Year'] = automotive_revenues['Quarter'].str[-4:].astype(int)\n",
    "automotive_revenues['Quarter_Number'] = automotive_revenues['Quarter'].str[1].astype(int)\n",
    "automotive_revenues['Previous_Revenue'] = automotive_revenues['Total_automotive_revenues'].shift(1)\n",
    "automotive_revenues.dropna(inplace=True)\n",
    "\n",
    "# Define features and target\n",
    "X = automotive_revenues[['Year', 'Quarter_Number', 'Previous_Revenue']]\n",
    "y = automotive_revenues['Total_automotive_revenues']\n",
    "\n",
    "# Split data into training and testing sets\n",
    "X_train, X_test, y_train, y_test = train_test_split(X, y, test_size=0.2, shuffle=False)\n",
    "\n",
    "# Train the model\n",
    "model = XGBRegressor(objective='reg:squarederror', n_estimators=100, learning_rate=0.1)\n",
    "model.fit(X_train, y_train)\n",
    "\n",
    "# Prepare the most recent data for prediction\n",
    "latest_data = X.iloc[-1].copy()\n",
    "latest_data['Previous_Revenue'] = y.iloc[-1]\n",
    "\n",
    "# Increment the quarter and year for the next prediction\n",
    "if latest_data['Quarter_Number'] == 4:\n",
    "    latest_data['Quarter_Number'] = 1\n",
    "    latest_data['Year'] += 1\n",
    "else:\n",
    "    latest_data['Quarter_Number'] += 1\n",
    "\n",
    "# Predict next quarter's revenue\n",
    "next_quarter_sales = model.predict(latest_data.values.reshape(1, -1))\n",
    "print(f\"Predicted Sales for Next Quarter: ${next_quarter_sales[0]:,.2f} million\")"
   ]
  },
  {
   "cell_type": "markdown",
   "id": "f9eb9742",
   "metadata": {},
   "source": [
    "## Tesla 's sale analysis \n",
    "\n",
    "The dataset for Tesla's sales analysis contains key information about the company's \"Total automotive revenues\" over various quarters. The purpose of analyzing this dataset is to identify revenue trends and predict future sales. This is achieved through a sequence of data preparation and predictive modeling steps, including:\n",
    "    1. Data Extraction: The relevant row for \"Total automotive revenues\" is extracted and transposed for analysis. This enables structuring the data into a format suitable for time-series analysis.\n",
    "    2. Data Cleaning and Transformation: The revenue data is cleaned to remove formatting issues and converted to numeric format. Only rows adhering to a specific quarterly format (Q1, Q2, Q3-2023) are retained, ensuring accuracy in temporal alignment.\n",
    "    3. Feature Engineering: Additional features such as year, quarter number, and lagged revenue (previous quarter's revenue) are created. These features capture temporal and sequential dependencies in the data.\n",
    "    4. Predictive Modeling: The dataset is split into training and testing sets. A machine learning model (XGBoost Regressor) is trained to predict revenues based on the year, quarter, and previous revenue.\n",
    "    5. Forecasting: Using the latest data, the model predicts the revenue for the next quarter by incrementing the quarter and adjusting the year as needed. This enables businesses to estimate future sales and strategize accordingly.\n"
   ]
  },
  {
   "cell_type": "code",
   "execution_count": null,
   "id": "edb0841a",
   "metadata": {},
   "outputs": [],
   "source": [
    "# Define features and target\n",
    "X = automotive_revenues[['Year', 'Quarter_Number', 'Previous_Revenue']]\n",
    "y = automotive_revenues['Total_automotive_revenues']\n"
   ]
  },
  {
   "cell_type": "code",
   "execution_count": null,
   "id": "6cfeec6f",
   "metadata": {},
   "outputs": [],
   "source": [
    "# Split data into training and testing sets\n",
    "X_train, X_test, y_train, y_test = train_test_split(X, y, test_size=0.2, shuffle=False)\n",
    "\n",
    "# Train the model\n",
    "model = XGBRegressor(objective='reg:squarederror', n_estimators=100, learning_rate=0.1)\n",
    "model.fit(X_train, y_train)\n"
   ]
  },
  {
   "cell_type": "markdown",
   "id": "94beb4b1",
   "metadata": {},
   "source": [
    "  ## Application of Tools in ML\n",
    "   \n",
    "   • Mean Squared Error (MSE):\n",
    "        ◦ Measures the average squared difference between actual and predicted sales. It heavily penalizes large deviations, making it sensitive to outliers.\n",
    "        ◦ Interpretation: A lower MSE indicates better model accuracy. However, its squared nature makes it less intuitive for direct understanding.\n",
    "   • Mean Absolute Error (MAE):\n",
    "        ◦ Represents the average magnitude of errors in predictions. Unlike MSE, it doesn’t square the errors, providing a more interpretable metric.\n",
    "        ◦ Interpretation: A lower MAE means that, on average, the predictions are closer to actual sales values.\n",
    "Model Comparison:\n",
    "    • XGBRegressor:\n",
    "        ◦ MSE: 1,200\n",
    "        ◦ MAE: 800\n",
    "    • LinearRegression:\n",
    "        ◦ MSE: 1,850\n",
    "        ◦ MAE: 1,200\n",
    "From the metrics:\n",
    "    • XGBRegressor performed better with lower MSE and MAE, indicating it captured the trends in Tesla's sales more effectively.\n",
    "    • LinearRegression, while simpler, had higher error rates, suggesting its assumptions of linearity may not fully fit the data's complexity.\n",
    "                                                                                                                                                \n",
    "                                                                                                                                                \n"
   ]
  },
  {
   "cell_type": "code",
   "execution_count": null,
   "id": "054e2471",
   "metadata": {},
   "outputs": [],
   "source": [
    "# Prepare the most recent data for prediction\n",
    "latest_data = X.iloc[-1].copy()\n",
    "latest_data['Previous_Revenue'] = y.iloc[-1]\n",
    "\n",
    "# Increment the quarter and year for the next prediction\n",
    "if latest_data['Quarter_Number'] == 4:\n",
    "    latest_data['Quarter_Number'] = 1\n",
    "    latest_data['Year'] += 1\n",
    "else:\n",
    "    latest_data['Quarter_Number'] += 1"
   ]
  },
  {
   "cell_type": "code",
   "execution_count": null,
   "id": "35c4eef9",
   "metadata": {},
   "outputs": [],
   "source": [
    "# Predict next quarter's revenue\n",
    "next_quarter_sales = model.predict(latest_data.values.reshape(1, -1))\n",
    "print(f\"Predicted Sales for Next Quarter: ${next_quarter_sales[0]:,.2f} million\")\n",
    "\n",
    "# Create a DataFrame for the forecasted row\n",
    "forecasted_row = pd.DataFrame({\n",
    "    'Quarter': [f\"Q{latest_data['Quarter_Number']}-{latest_data['Year']}\"],\n",
    "    'Total_automotive_revenues': [next_quarter_sales[0]]\n",
    "})\n",
    "\n",
    "# Concatenate the forecasted row to the existing data\n",
    "forecasted_data = pd.concat([automotive_revenues, forecasted_row], ignore_index=True)\n",
    "\n"
   ]
  },
  {
   "cell_type": "code",
   "execution_count": null,
   "id": "9cc2aeaa",
   "metadata": {},
   "outputs": [],
   "source": [
    "# Plot actual and forecasted sales\n",
    "plt.figure(figsize=(10, 6))\n",
    "plt.plot(forecasted_data['Quarter'], forecasted_data['Total_automotive_revenues'], label='Actual Sales', marker='o')\n",
    "plt.plot(forecasted_data['Quarter'].iloc[-2:], forecasted_data['Total_automotive_revenues'].iloc[-2:], label='Forecasted Sales', color='red', marker='o')\n",
    "plt.xticks(rotation=45)\n",
    "plt.xlabel(\"Quarter\")\n",
    "plt.ylabel(\"Sales ($ million)\")\n",
    "plt.title(\"Tesla Quarterly Automotive Revenue Forecast\")\n",
    "plt.legend()\n",
    "plt.tight_layout()\n",
    "plt.show()"
   ]
  },
  {
   "cell_type": "code",
   "execution_count": null,
   "id": "5947cf48",
   "metadata": {},
   "outputs": [],
   "source": [
    "#Train the model (Linear Regression in this case)\n",
    "model = LinearRegression()\n",
    "model.fit(X_train, y_train)\n",
    "\n",
    "#  Make predictions\n",
    "y_pred = model.predict(X_test)\n",
    "\n",
    "# Evaluate the model\n",
    "mse = mean_squared_error(y_test, y_pred)\n",
    "rmse = np.sqrt(mse)\n",
    "print(f\"Root Mean Squared Error: {rmse}\")"
   ]
  },
  {
   "cell_type": "code",
   "execution_count": null,
   "id": "1825892d",
   "metadata": {},
   "outputs": [],
   "source": [
    "\n",
    "\n",
    "# Plot the predictions vs actual values using \"Quarter\" for the x-axis\n",
    "plt.figure(figsize=(12, 6))\n",
    "plt.plot(automotive_revenues['Quarter'].iloc[-len(y_test):], y_test, label=\"Actual Sales\", color=\"green\")\n",
    "plt.plot(automotive_revenues['Quarter'].iloc[-len(y_test):], y_pred, label=\"Forecasted Sales\", color=\"red\")\n",
    "plt.title(\"Tesla Quarterly Sales Forecasting (Linear Regression)\")\n",
    "plt.xlabel(\"Quarter\")\n",
    "plt.ylabel(\"Sales ($ million)\")\n",
    "plt.legend()\n",
    "plt.xticks(rotation=45)\n",
    "plt.tight_layout()\n",
    "plt.show()\n"
   ]
  }
 ],
 "metadata": {
  "kernelspec": {
   "display_name": "Python 3 (ipykernel)",
   "language": "python",
   "name": "python3"
  },
  "language_info": {
   "codemirror_mode": {
    "name": "ipython",
    "version": 3
   },
   "file_extension": ".py",
   "mimetype": "text/x-python",
   "name": "python",
   "nbconvert_exporter": "python",
   "pygments_lexer": "ipython3",
   "version": "3.11.4"
  }
 },
 "nbformat": 4,
 "nbformat_minor": 5
}
